{
 "cells": [
  {
   "cell_type": "markdown",
   "id": "36d6d8ea",
   "metadata": {},
   "source": [
    "# Income Classification Data Preprocessing Workflow\n",
    "\n",
    "This notebook demonstrates a step-by-step data preprocessing pipeline for an income classification dataset. The workflow includes:\n",
    "\n",
    "- Loading the raw dataset\n",
    "- Dropping unnecessary columns\n",
    "- Removing duplicate entries\n",
    "- Handling missing and categorical data\n",
    "- Outlier detection and transformation for numerical features\n",
    "- Encoding categorical variables (Label Encoding and One-Hot Encoding)\n",
    "- Saving the cleaned and transformed dataset for further analysis\n",
    "\n",
    "Each step is documented and code is provided for reproducibility. This notebook prepares the data for machine learning modeling and ensures data quality for robust analysis."
   ]
  },
  {
   "cell_type": "code",
   "execution_count": 1,
   "id": "a7a1b57a",
   "metadata": {},
   "outputs": [],
   "source": [
    "# Import Required Libraries\n",
    "import pandas as pd\n",
    "import numpy as np"
   ]
  },
  {
   "cell_type": "code",
   "execution_count": 2,
   "id": "bb11a89b",
   "metadata": {},
   "outputs": [
    {
     "name": "stdout",
     "output_type": "stream",
     "text": [
      "Initial shape: (48842, 15)\n"
     ]
    }
   ],
   "source": [
    "# Load the Dataset\n",
    "data = pd.read_csv(\"../data/income.csv\")\n",
    "print(\"Initial shape:\", data.shape)"
   ]
  },
  {
   "cell_type": "code",
   "execution_count": 3,
   "id": "e70cb7aa",
   "metadata": {},
   "outputs": [],
   "source": [
    "# Drop Unnecessary Columns\n",
    "selected_features = [columns for columns in data.columns if columns not in ['fnlwgt', 'educational-num']]\n",
    "data = data[selected_features]"
   ]
  },
  {
   "cell_type": "code",
   "execution_count": 4,
   "id": "5d03de33",
   "metadata": {},
   "outputs": [
    {
     "name": "stdout",
     "output_type": "stream",
     "text": [
      "Shape after removing duplicates: (42468, 13)\n"
     ]
    }
   ],
   "source": [
    "# Remove Duplicate Entries\n",
    "data = data.drop_duplicates()\n",
    "print(\"Shape after removing duplicates:\", data.shape)"
   ]
  },
  {
   "cell_type": "code",
   "execution_count": 5,
   "id": "9327d606",
   "metadata": {},
   "outputs": [
    {
     "name": "stdout",
     "output_type": "stream",
     "text": [
      "Missing values after handling:\n",
      " age               0\n",
      "workclass         0\n",
      "education         0\n",
      "marital-status    0\n",
      "occupation        0\n",
      "relationship      0\n",
      "race              0\n",
      "gender            0\n",
      "capital-gain      0\n",
      "capital-loss      0\n",
      "hours-per-week    0\n",
      "native-country    0\n",
      "income            0\n",
      "dtype: int64\n"
     ]
    }
   ],
   "source": [
    "# Handle Missing and Categorical Data\n",
    "# Replace placeholder values (?) with proper NaN values \n",
    "data = data.replace(\"?\", np.nan)\n",
    "\n",
    "# Define categorical columns for processing\n",
    "categorical_cols = [\"workclass\", \"education\", \"marital-status\", \n",
    "                    \"occupation\", \"relationship\", \n",
    "                    \"gender\",\"race\", \"native-country\"]\n",
    "\n",
    "# Fill missing categorical values with \"Unknown\" instead of dropping rows\n",
    "for col in categorical_cols:\n",
    "    data[col] = data[col].fillna(\"Unknown\")\n",
    "\n",
    "# Convert income target variable to binary format (1 for >50K, 0 for <=50K)\n",
    "data[\"income\"] = data[\"income\"].astype(str).str.strip()\n",
    "data[\"income\"] = data[\"income\"].apply(lambda x: 1 if x == \">50K\" else 0)\n",
    "\n",
    "# Verify no missing values remain in the dataset\n",
    "print(\"Missing values after handling:\\n\", data.isnull().sum())"
   ]
  },
  {
   "cell_type": "code",
   "execution_count": 6,
   "id": "dc01dd6e",
   "metadata": {},
   "outputs": [
    {
     "name": "stdout",
     "output_type": "stream",
     "text": [
      "age: removed 184 outliers\n",
      "hours-per-week: removed 10321 outliers\n",
      "capital-gain: applied log transformation\n",
      "capital-loss: applied log transformation\n"
     ]
    }
   ],
   "source": [
    "# Handle Outliers in Numeric Features\n",
    "numeric_cols_iqr = [\"age\", \"hours-per-week\"]   # Apply IQR here\n",
    "skewed_cols = [\"capital-gain\", \"capital-loss\"] # Transform instead of remove\n",
    "\n",
    "# Function: remove outliers with IQR\n",
    "def remove_outliers_iqr(df, col):\n",
    "    Q1 = df[col].quantile(0.25)\n",
    "    Q3 = df[col].quantile(0.75)\n",
    "    IQR = Q3 - Q1\n",
    "    lower = Q1 - 1.5 * IQR\n",
    "    upper = Q3 + 1.5 * IQR\n",
    "    return df[(df[col] >= lower) & (df[col] <= upper)]\n",
    "\n",
    "# Apply IQR only on selected numeric cols\n",
    "for col in numeric_cols_iqr:\n",
    "    before = data.shape[0]\n",
    "    data = remove_outliers_iqr(data, col)\n",
    "    after = data.shape[0]\n",
    "    print(f\"{col}: removed {before - after} outliers\")\n",
    "\n",
    "# Apply log transformation to skewed features\n",
    "import numpy as np\n",
    "for col in skewed_cols:\n",
    "    data[col] = np.log1p(data[col])   # log(1 + x) keeps 0 as 0\n",
    "    print(f\"{col}: applied log transformation\")"
   ]
  },
  {
   "cell_type": "code",
   "execution_count": 7,
   "id": "ec27eb75",
   "metadata": {},
   "outputs": [
    {
     "name": "stdout",
     "output_type": "stream",
     "text": [
      "   age  workclass     education      marital-status         occupation  \\\n",
      "0   25    Private          11th       Never-married  Machine-op-inspct   \n",
      "1   38    Private       HS-grad  Married-civ-spouse    Farming-fishing   \n",
      "2   28  Local-gov    Assoc-acdm  Married-civ-spouse    Protective-serv   \n",
      "3   44    Private  Some-college  Married-civ-spouse  Machine-op-inspct   \n",
      "4   18    Unknown  Some-college       Never-married            Unknown   \n",
      "\n",
      "  relationship   race  gender  capital-gain  capital-loss  hours-per-week  \\\n",
      "0    Own-child  Black    Male      0.000000           0.0              40   \n",
      "1      Husband  White    Male      0.000000           0.0              50   \n",
      "2      Husband  White    Male      0.000000           0.0              40   \n",
      "3      Husband  Black    Male      8.947546           0.0              40   \n",
      "4    Own-child  White  Female      0.000000           0.0              30   \n",
      "\n",
      "  native-country  income  \n",
      "0  United-States       0  \n",
      "1  United-States       0  \n",
      "2  United-States       1  \n",
      "3  United-States       1  \n",
      "4  United-States       0  \n"
     ]
    }
   ],
   "source": [
    "print( data.head())"
   ]
  },
  {
   "cell_type": "markdown",
   "id": "cb6a71c7",
   "metadata": {},
   "source": [
    "Numerical Columns"
   ]
  },
  {
   "cell_type": "code",
   "execution_count": 8,
   "id": "c740bc6a",
   "metadata": {},
   "outputs": [
    {
     "data": {
      "text/plain": [
       "0    0.0\n",
       "1    0.0\n",
       "2    0.0\n",
       "3    0.0\n",
       "4    0.0\n",
       "Name: capital-loss, dtype: float64"
      ]
     },
     "execution_count": 8,
     "metadata": {},
     "output_type": "execute_result"
    }
   ],
   "source": [
    "#capital-gain and capital-loss are highly skewed, we can apply log transformation to reduce the skewness instead of removing outliers.\n",
    "\n",
    "\n",
    "# Apply log transformation to capital-gain (log1p avoids issues with zero values)\n",
    "data['capital-gain'] = np.log1p(data['capital-gain'])\n",
    "data['capital-gain'].head()\n",
    "\n",
    "# Apply log transformation to capital-loss (log1p avoids issues with zero values)\n",
    "data['capital-loss'] = np.log1p(data['capital-loss'])\n",
    "data['capital-loss'].head()\n"
   ]
  },
  {
   "cell_type": "markdown",
   "id": "9d828147",
   "metadata": {},
   "source": [
    "#hours-per-week and age are not highly skewed and Income has been transformed to 1 - 0 values"
   ]
  },
  {
   "cell_type": "markdown",
   "id": "ff237e0c",
   "metadata": {},
   "source": [
    "Categrorical columns"
   ]
  },
  {
   "cell_type": "code",
   "execution_count": 9,
   "id": "d9791841",
   "metadata": {},
   "outputs": [
    {
     "name": "stdout",
     "output_type": "stream",
     "text": [
      "       age     workclass  education      marital-status         occupation  \\\n",
      "0       25       Private          1       Never-married  Machine-op-inspct   \n",
      "1       38       Private         11  Married-civ-spouse    Farming-fishing   \n",
      "2       28     Local-gov          7  Married-civ-spouse    Protective-serv   \n",
      "3       44       Private         15  Married-civ-spouse  Machine-op-inspct   \n",
      "4       18       Unknown         15       Never-married            Unknown   \n",
      "...    ...           ...        ...                 ...                ...   \n",
      "48835   53       Private         12  Married-civ-spouse    Exec-managerial   \n",
      "48836   22       Private         15       Never-married    Protective-serv   \n",
      "48837   27       Private          7  Married-civ-spouse       Tech-support   \n",
      "48839   58       Private         11             Widowed       Adm-clerical   \n",
      "48841   52  Self-emp-inc         11  Married-civ-spouse    Exec-managerial   \n",
      "\n",
      "        relationship   race  gender  capital-gain  capital-loss  \\\n",
      "0          Own-child  Black    Male      0.000000           0.0   \n",
      "1            Husband  White    Male      0.000000           0.0   \n",
      "2            Husband  White    Male      0.000000           0.0   \n",
      "3            Husband  Black    Male      2.297326           0.0   \n",
      "4          Own-child  White  Female      0.000000           0.0   \n",
      "...              ...    ...     ...           ...           ...   \n",
      "48835        Husband  White    Male      0.000000           0.0   \n",
      "48836  Not-in-family  White    Male      0.000000           0.0   \n",
      "48837           Wife  White  Female      0.000000           0.0   \n",
      "48839      Unmarried  White  Female      0.000000           0.0   \n",
      "48841           Wife  White  Female      2.362501           0.0   \n",
      "\n",
      "       hours-per-week native-country  income  \n",
      "0                  40  United-States       0  \n",
      "1                  50  United-States       0  \n",
      "2                  40  United-States       1  \n",
      "3                  40  United-States       1  \n",
      "4                  30  United-States       0  \n",
      "...               ...            ...     ...  \n",
      "48835              40  United-States       1  \n",
      "48836              40  United-States       0  \n",
      "48837              38  United-States       0  \n",
      "48839              40  United-States       0  \n",
      "48841              40  United-States       1  \n",
      "\n",
      "[31963 rows x 13 columns]\n"
     ]
    }
   ],
   "source": [
    "import joblib\n",
    "from sklearn.preprocessing import LabelEncoder\n",
    "import pandas as pd\n",
    "\n",
    "\n",
    "# Initialize the LabelEncoder\n",
    "encoder = LabelEncoder()\n",
    "\n",
    "# Fit the encoder to the 'education' column and transform it\n",
    "data['education'] = encoder.fit_transform(data['education'])\n",
    "\n",
    "# Save the fitted encoder to a file\n",
    "joblib.dump(encoder, '../tools/education_encoder.pkl')\n",
    "\n",
    "# Check the transformed dataset\n",
    "print(data)"
   ]
  },
  {
   "cell_type": "code",
   "execution_count": 10,
   "id": "cd81754e",
   "metadata": {},
   "outputs": [
    {
     "name": "stdout",
     "output_type": "stream",
     "text": [
      "       age  education  gender  capital-gain  capital-loss  hours-per-week  \\\n",
      "0       25          1    Male      0.000000           0.0              40   \n",
      "1       38         11    Male      0.000000           0.0              50   \n",
      "2       28          7    Male      0.000000           0.0              40   \n",
      "3       44         15    Male      2.297326           0.0              40   \n",
      "4       18         15  Female      0.000000           0.0              30   \n",
      "...    ...        ...     ...           ...           ...             ...   \n",
      "48835   53         12    Male      0.000000           0.0              40   \n",
      "48836   22         15    Male      0.000000           0.0              40   \n",
      "48837   27          7  Female      0.000000           0.0              38   \n",
      "48839   58         11  Female      0.000000           0.0              40   \n",
      "48841   52         11  Female      2.362501           0.0              40   \n",
      "\n",
      "       income  workclass_Federal-gov  workclass_Local-gov  \\\n",
      "0           0                  False                False   \n",
      "1           0                  False                False   \n",
      "2           1                  False                 True   \n",
      "3           1                  False                False   \n",
      "4           0                  False                False   \n",
      "...       ...                    ...                  ...   \n",
      "48835       1                  False                False   \n",
      "48836       0                  False                False   \n",
      "48837       0                  False                False   \n",
      "48839       0                  False                False   \n",
      "48841       1                  False                False   \n",
      "\n",
      "       workclass_Never-worked  ...  native-country_Unknown  \\\n",
      "0                       False  ...                   False   \n",
      "1                       False  ...                   False   \n",
      "2                       False  ...                   False   \n",
      "3                       False  ...                   False   \n",
      "4                       False  ...                   False   \n",
      "...                       ...  ...                     ...   \n",
      "48835                   False  ...                   False   \n",
      "48836                   False  ...                   False   \n",
      "48837                   False  ...                   False   \n",
      "48839                   False  ...                   False   \n",
      "48841                   False  ...                   False   \n",
      "\n",
      "       native-country_Vietnam  native-country_Yugoslavia  \\\n",
      "0                       False                      False   \n",
      "1                       False                      False   \n",
      "2                       False                      False   \n",
      "3                       False                      False   \n",
      "4                       False                      False   \n",
      "...                       ...                        ...   \n",
      "48835                   False                      False   \n",
      "48836                   False                      False   \n",
      "48837                   False                      False   \n",
      "48839                   False                      False   \n",
      "48841                   False                      False   \n",
      "\n",
      "       marital-status_Divorced  marital-status_Married-AF-spouse  \\\n",
      "0                        False                             False   \n",
      "1                        False                             False   \n",
      "2                        False                             False   \n",
      "3                        False                             False   \n",
      "4                        False                             False   \n",
      "...                        ...                               ...   \n",
      "48835                    False                             False   \n",
      "48836                    False                             False   \n",
      "48837                    False                             False   \n",
      "48839                    False                             False   \n",
      "48841                    False                             False   \n",
      "\n",
      "       marital-status_Married-civ-spouse  \\\n",
      "0                                  False   \n",
      "1                                   True   \n",
      "2                                   True   \n",
      "3                                   True   \n",
      "4                                  False   \n",
      "...                                  ...   \n",
      "48835                               True   \n",
      "48836                              False   \n",
      "48837                               True   \n",
      "48839                              False   \n",
      "48841                               True   \n",
      "\n",
      "       marital-status_Married-spouse-absent  marital-status_Never-married  \\\n",
      "0                                     False                          True   \n",
      "1                                     False                         False   \n",
      "2                                     False                         False   \n",
      "3                                     False                         False   \n",
      "4                                     False                          True   \n",
      "...                                     ...                           ...   \n",
      "48835                                 False                         False   \n",
      "48836                                 False                          True   \n",
      "48837                                 False                         False   \n",
      "48839                                 False                         False   \n",
      "48841                                 False                         False   \n",
      "\n",
      "       marital-status_Separated  marital-status_Widowed  \n",
      "0                         False                   False  \n",
      "1                         False                   False  \n",
      "2                         False                   False  \n",
      "3                         False                   False  \n",
      "4                         False                   False  \n",
      "...                         ...                     ...  \n",
      "48835                     False                   False  \n",
      "48836                     False                   False  \n",
      "48837                     False                   False  \n",
      "48839                     False                    True  \n",
      "48841                     False                   False  \n",
      "\n",
      "[31963 rows x 91 columns]\n"
     ]
    }
   ],
   "source": [
    "#one-hot encode other categorical columns\n",
    "# Apply One-Hot Encoding to categorical columns\n",
    "columns_to_encode = ['workclass', 'occupation', 'relationship', 'race', 'native-country', 'marital-status']\n",
    "data_encoded = pd.get_dummies(data, columns=columns_to_encode)\n",
    "\n",
    "# Check the transformed dataset\n",
    "print(data_encoded)"
   ]
  },
  {
   "cell_type": "code",
   "execution_count": 11,
   "id": "6b3b930e",
   "metadata": {},
   "outputs": [
    {
     "name": "stdout",
     "output_type": "stream",
     "text": [
      "       age  education  capital-gain  capital-loss  hours-per-week  income  \\\n",
      "0       25          1      0.000000           0.0              40       0   \n",
      "1       38         11      0.000000           0.0              50       0   \n",
      "2       28          7      0.000000           0.0              40       1   \n",
      "3       44         15      2.297326           0.0              40       1   \n",
      "4       18         15      0.000000           0.0              30       0   \n",
      "...    ...        ...           ...           ...             ...     ...   \n",
      "48835   53         12      0.000000           0.0              40       1   \n",
      "48836   22         15      0.000000           0.0              40       0   \n",
      "48837   27          7      0.000000           0.0              38       0   \n",
      "48839   58         11      0.000000           0.0              40       0   \n",
      "48841   52         11      2.362501           0.0              40       1   \n",
      "\n",
      "       workclass_Federal-gov  workclass_Local-gov  workclass_Never-worked  \\\n",
      "0                      False                False                   False   \n",
      "1                      False                False                   False   \n",
      "2                      False                 True                   False   \n",
      "3                      False                False                   False   \n",
      "4                      False                False                   False   \n",
      "...                      ...                  ...                     ...   \n",
      "48835                  False                False                   False   \n",
      "48836                  False                False                   False   \n",
      "48837                  False                False                   False   \n",
      "48839                  False                False                   False   \n",
      "48841                  False                False                   False   \n",
      "\n",
      "       workclass_Private  ...  native-country_South  native-country_Taiwan  \\\n",
      "0                   True  ...                 False                  False   \n",
      "1                   True  ...                 False                  False   \n",
      "2                  False  ...                 False                  False   \n",
      "3                   True  ...                 False                  False   \n",
      "4                  False  ...                 False                  False   \n",
      "...                  ...  ...                   ...                    ...   \n",
      "48835               True  ...                 False                  False   \n",
      "48836               True  ...                 False                  False   \n",
      "48837               True  ...                 False                  False   \n",
      "48839               True  ...                 False                  False   \n",
      "48841              False  ...                 False                  False   \n",
      "\n",
      "       native-country_Thailand  native-country_Trinadad&Tobago  \\\n",
      "0                        False                           False   \n",
      "1                        False                           False   \n",
      "2                        False                           False   \n",
      "3                        False                           False   \n",
      "4                        False                           False   \n",
      "...                        ...                             ...   \n",
      "48835                    False                           False   \n",
      "48836                    False                           False   \n",
      "48837                    False                           False   \n",
      "48839                    False                           False   \n",
      "48841                    False                           False   \n",
      "\n",
      "       native-country_United-States  native-country_Unknown  \\\n",
      "0                              True                   False   \n",
      "1                              True                   False   \n",
      "2                              True                   False   \n",
      "3                              True                   False   \n",
      "4                              True                   False   \n",
      "...                             ...                     ...   \n",
      "48835                          True                   False   \n",
      "48836                          True                   False   \n",
      "48837                          True                   False   \n",
      "48839                          True                   False   \n",
      "48841                          True                   False   \n",
      "\n",
      "       native-country_Vietnam  native-country_Yugoslavia  gender_Female  \\\n",
      "0                       False                      False          False   \n",
      "1                       False                      False          False   \n",
      "2                       False                      False          False   \n",
      "3                       False                      False          False   \n",
      "4                       False                      False           True   \n",
      "...                       ...                        ...            ...   \n",
      "48835                   False                      False          False   \n",
      "48836                   False                      False          False   \n",
      "48837                   False                      False           True   \n",
      "48839                   False                      False           True   \n",
      "48841                   False                      False           True   \n",
      "\n",
      "       gender_Male  \n",
      "0             True  \n",
      "1             True  \n",
      "2             True  \n",
      "3             True  \n",
      "4            False  \n",
      "...            ...  \n",
      "48835         True  \n",
      "48836         True  \n",
      "48837        False  \n",
      "48839        False  \n",
      "48841        False  \n",
      "\n",
      "[31963 rows x 92 columns]\n"
     ]
    }
   ],
   "source": [
    "#encode the other nominal categorical columns using one-hot encoding\n",
    "# Apply One-Hot Encoding to categorical columns\n",
    "columns_to_encode = ['workclass', 'marital-status', 'occupation', 'relationship', 'race', 'native-country','gender']\n",
    "data_encoded = pd.get_dummies(data, columns=columns_to_encode)\n",
    "\n",
    "# Check the transformed dataset\n",
    "print(data_encoded)\n"
   ]
  },
  {
   "cell_type": "code",
   "execution_count": 12,
   "id": "748c2bed",
   "metadata": {},
   "outputs": [
    {
     "name": "stdout",
     "output_type": "stream",
     "text": [
      "Dataset saved as 'cleaned.csv' in the 'data' folder.\n"
     ]
    }
   ],
   "source": [
    "#save the preprocessed data to a new CSV file\n",
    "data_encoded.to_csv(\"../data/cleaned.csv\", index=False)\n",
    "\n",
    "print(\"Dataset saved as 'cleaned.csv' in the 'data' folder.\")"
   ]
  },
  {
   "cell_type": "code",
   "execution_count": null,
   "id": "1dc1435f",
   "metadata": {},
   "outputs": [],
   "source": []
  },
  {
   "cell_type": "code",
   "execution_count": null,
   "id": "5c6cc3a7",
   "metadata": {},
   "outputs": [],
   "source": []
  }
 ],
 "metadata": {
  "kernelspec": {
   "display_name": "venv",
   "language": "python",
   "name": "python3"
  },
  "language_info": {
   "codemirror_mode": {
    "name": "ipython",
    "version": 3
   },
   "file_extension": ".py",
   "mimetype": "text/x-python",
   "name": "python",
   "nbconvert_exporter": "python",
   "pygments_lexer": "ipython3",
   "version": "3.12.0"
  }
 },
 "nbformat": 4,
 "nbformat_minor": 5
}
