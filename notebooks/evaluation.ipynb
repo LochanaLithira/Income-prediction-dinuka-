{
 "cells": [
  {
   "cell_type": "markdown",
   "id": "9311d624",
   "metadata": {},
   "source": [
    "## Income Classifier Evaluation\n",
    "\n",
    "This notebook reloads the tuned XGBoost model, evaluates it on the held-out test split, and reports headline metrics to confirm deployment readiness.\n"
   ]
  },
  {
   "cell_type": "code",
   "execution_count": 1,
   "id": "21a4ffc0",
   "metadata": {},
   "outputs": [
    {
     "name": "stdout",
     "output_type": "stream",
     "text": [
      "   age  education  capital-gain  capital-loss  hours-per-week  income  \\\n",
      "0   25          1      0.000000           0.0              40       0   \n",
      "1   38         11      0.000000           0.0              50       0   \n",
      "2   28          7      0.000000           0.0              40       1   \n",
      "3   44         15      8.947546           0.0              40       1   \n",
      "4   18         15      0.000000           0.0              30       0   \n",
      "\n",
      "   workclass_Federal-gov  workclass_Local-gov  workclass_Never-worked  \\\n",
      "0                  False                False                   False   \n",
      "1                  False                False                   False   \n",
      "2                  False                 True                   False   \n",
      "3                  False                False                   False   \n",
      "4                  False                False                   False   \n",
      "\n",
      "   workclass_Private  ...  native-country_South  native-country_Taiwan  \\\n",
      "0               True  ...                 False                  False   \n",
      "1               True  ...                 False                  False   \n",
      "2              False  ...                 False                  False   \n",
      "3               True  ...                 False                  False   \n",
      "4              False  ...                 False                  False   \n",
      "\n",
      "   native-country_Thailand  native-country_Trinadad&Tobago  \\\n",
      "0                    False                           False   \n",
      "1                    False                           False   \n",
      "2                    False                           False   \n",
      "3                    False                           False   \n",
      "4                    False                           False   \n",
      "\n",
      "   native-country_United-States  native-country_Unknown  \\\n",
      "0                          True                   False   \n",
      "1                          True                   False   \n",
      "2                          True                   False   \n",
      "3                          True                   False   \n",
      "4                          True                   False   \n",
      "\n",
      "   native-country_Vietnam  native-country_Yugoslavia  gender_Female  \\\n",
      "0                   False                      False          False   \n",
      "1                   False                      False          False   \n",
      "2                   False                      False          False   \n",
      "3                   False                      False          False   \n",
      "4                   False                      False           True   \n",
      "\n",
      "   gender_Male  \n",
      "0         True  \n",
      "1         True  \n",
      "2         True  \n",
      "3         True  \n",
      "4        False  \n",
      "\n",
      "[5 rows x 92 columns]\n"
     ]
    }
   ],
   "source": [
    "import pandas as pd\n",
    "\n",
    "# Load the cleaned dataset\n",
    "data = pd.read_csv('../data/cleaned.csv')\n",
    "\n",
    "# Check the first few rows\n",
    "print(data.head())"
   ]
  },
  {
   "cell_type": "markdown",
   "id": "b6530598",
   "metadata": {},
   "source": [
    "### Load Cleaned Dataset\n",
    "\n",
    "We bring in the preprocessed feature matrix to align evaluation with the training pipeline.\n"
   ]
  },
  {
   "cell_type": "markdown",
   "id": "84e261d4",
   "metadata": {},
   "source": [
    "### Recreate Train/Test Split\n",
    "\n",
    "We rebuild the same 80/20 split used during training so evaluation metrics stay comparable.\n"
   ]
  },
  {
   "cell_type": "code",
   "execution_count": 2,
   "id": "2347beac",
   "metadata": {},
   "outputs": [
    {
     "name": "stdout",
     "output_type": "stream",
     "text": [
      "Training data: (25570, 91), Test data: (6393, 91)\n"
     ]
    }
   ],
   "source": [
    "from sklearn.model_selection import train_test_split\n",
    "\n",
    "# Features (X) and target (y)\n",
    "X = data.drop(columns=['income'])  # Assuming 'income' is the target column\n",
    "y = data['income']  # The target column\n",
    "\n",
    "# Train-test split (80-20 split)\n",
    "X_train, X_test, y_train, y_test = train_test_split(X, y, test_size=0.2, random_state=42)\n",
    "\n",
    "# Check the shape of the split data\n",
    "print(f\"Training data: {X_train.shape}, Test data: {X_test.shape}\")"
   ]
  },
  {
   "cell_type": "markdown",
   "id": "cb5e6d69",
   "metadata": {},
   "source": [
    "### Load Saved Model\n",
    "\n",
    "We fetch the persisted XGBoost model so we can evaluate exactly what will be used in production scoring.\n"
   ]
  },
  {
   "cell_type": "code",
   "execution_count": 3,
   "id": "3c4969a0",
   "metadata": {},
   "outputs": [
    {
     "name": "stdout",
     "output_type": "stream",
     "text": [
      "Model loaded successfully.\n"
     ]
    }
   ],
   "source": [
    "import joblib\n",
    "\n",
    "# Load the saved best model\n",
    "best_model = joblib.load('../models/best_xgboost_model.pkl')\n",
    "\n",
    "# Check if the model is loaded correctly\n",
    "print(\"Model loaded successfully.\")"
   ]
  },
  {
   "cell_type": "markdown",
   "id": "d7c3f05d",
   "metadata": {},
   "source": [
    "### Generate Predictions and Metrics\n",
    "\n",
    "We compute accuracy, precision, recall, and F1 score (weighted) to summarize performance across the imbalanced classes.\n"
   ]
  },
  {
   "cell_type": "code",
   "execution_count": 4,
   "id": "8ed99ce2",
   "metadata": {},
   "outputs": [
    {
     "name": "stdout",
     "output_type": "stream",
     "text": [
      "Accuracy: 0.8628\n",
      "Precision: 0.8582\n",
      "Recall: 0.8628\n",
      "F1 Score: 0.8587\n"
     ]
    }
   ],
   "source": [
    "from sklearn.metrics import accuracy_score, precision_score, recall_score, f1_score\n",
    "\n",
    "# Predict on the test set\n",
    "y_pred = best_model.predict(X_test)\n",
    "\n",
    "# Evaluate the model's performance\n",
    "accuracy = accuracy_score(y_test, y_pred)\n",
    "precision = precision_score(y_test, y_pred, average='weighted')\n",
    "recall = recall_score(y_test, y_pred, average='weighted')\n",
    "f1 = f1_score(y_test, y_pred, average='weighted')\n",
    "# Print the evaluation results\n",
    "print(f\"Accuracy: {accuracy:.4f}\")\n",
    "print(f\"Precision: {precision:.4f}\")\n",
    "print(f\"Recall: {recall:.4f}\")\n",
    "print(f\"F1 Score: {f1:.4f}\")\n"
   ]
  },
  {
   "cell_type": "code",
   "execution_count": null,
   "id": "f3758540",
   "metadata": {},
   "outputs": [],
   "source": []
  }
 ],
 "metadata": {
  "kernelspec": {
   "display_name": "venv",
   "language": "python",
   "name": "python3"
  },
  "language_info": {
   "codemirror_mode": {
    "name": "ipython",
    "version": 3
   },
   "file_extension": ".py",
   "mimetype": "text/x-python",
   "name": "python",
   "nbconvert_exporter": "python",
   "pygments_lexer": "ipython3",
   "version": "3.12.0"
  }
 },
 "nbformat": 4,
 "nbformat_minor": 5
}
